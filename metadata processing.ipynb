{
 "cells": [
  {
   "cell_type": "code",
   "execution_count": 1,
   "metadata": {
    "collapsed": true
   },
   "outputs": [],
   "source": [
    "import openpyxl\n",
    "import nltk\n",
    "import collections\n",
    "import re"
   ]
  },
  {
   "cell_type": "code",
   "execution_count": 2,
   "metadata": {
    "collapsed": false
   },
   "outputs": [],
   "source": [
    "file = openpyxl.load_workbook('FILE_DIRECTORY')\n",
    "clist = file.get_sheet_by_name(\"companies\")\n",
    "tags = file.get_sheet_by_name(\"Tags\")\n",
    "newly_added = file.get_sheet_by_name(\"newly_added\")\n",
    "################################################ LOAD SPREADSHEET ################################################\n",
    "# i = 2 \n",
    "# while i < clist.max_row:\n",
    "#     ind = str(i)\n",
    "#     name = 'B'\n",
    "#     cInd = 'A'\n",
    "#     name+=ind\n",
    "#     cInd+=ind\n",
    "#     print (\"ID:\", clist[cInd].value ,\"          Name:\", clist[name].value )\n",
    "#     i+=1\n",
    "###################################################################################################################"
   ]
  },
  {
   "cell_type": "code",
   "execution_count": 3,
   "metadata": {
    "collapsed": false
   },
   "outputs": [
    {
     "name": "stdout",
     "output_type": "stream",
     "text": [
      "FinTech\n"
     ]
    }
   ],
   "source": [
    "############################################## STORE CNAMES INTO DICT #############################################\n",
    "cDict = collections.OrderedDict()\n",
    "j = 2\n",
    "while j <= clist.max_row:\n",
    "    ind = str(j)\n",
    "    cname = 'B'+ind\n",
    "    cInd = 'A'+ind\n",
    "    cDict[clist[cInd].value] = clist[cname].value\n",
    "    j+=1\n",
    "###################################################################################################################\n",
    "############################################## STORE TAGS INTO DICT ###############################################\n",
    "cTags = collections.OrderedDict()\n",
    "p = 1\n",
    "while p <= tags.max_row:\n",
    "    ind = str(p)\n",
    "    tag_name = 'B'+ind\n",
    "    tag_id = 'A'+ind\n",
    "    cTags[tags[tag_id].value] = tags[tag_name].value\n",
    "    p+=1\n",
    "###################################################################################################################\n",
    "print(cTags[586])"
   ]
  },
  {
   "cell_type": "code",
   "execution_count": 4,
   "metadata": {
    "collapsed": true
   },
   "outputs": [],
   "source": [
    "############################################## PROCESS CNAMES & GET URL ###########################################\n",
    "cURL = collections.OrderedDict()\n",
    "\n",
    "for cid, cname in cDict.items():\n",
    "    cmp = cname.lower()\n",
    "    cmp = cmp.replace(' ','-')\n",
    "    cmp = cmp.replace('&','-')\n",
    "    cmp = cmp.replace(',','')\n",
    "    cmp = cmp.replace('.','')\n",
    "    cmp = cmp.replace(' ','')\n",
    "    url = 'https://www.crunchbase.com/organization/'+cmp+'#/entity'\n",
    "    cURL[cid] = url\n",
    "###################################################################################################################"
   ]
  },
  {
   "cell_type": "code",
   "execution_count": 8,
   "metadata": {
    "collapsed": false
   },
   "outputs": [],
   "source": [
    "def delete(row_num):\n",
    "    clist['E'+str(row_num)] = 'X'\n",
    "    print (\"Row\", row_num, \"marked as delete\\n\")\n",
    "def not_sure(row_num):\n",
    "    clist['G'+str(row_num)] = 'X'\n",
    "    print (\"Row\", row_num, \"marked as not sure\\n\")\n",
    "def other(row_num):\n",
    "    clist['H'+str(row_num)] = 'X'\n",
    "    print (\"Row\", row_num, \"marked as other\\n\")\n",
    "def new(Id, tag_id,inserted):\n",
    "    newly_added['A'+str(inserted)] = Id\n",
    "    newly_added['B'+str(inserted)] = cDict[Id]\n",
    "    newly_added['C'+str(inserted)] = str(tag_id)\n",
    "    newly_added['D'+str(inserted)] = cTags[int(tag_id)]\n",
    "    newly_added['F'+str(inserted)] = 'X'\n",
    "    print (\"The tag: \", cTags[int(tag_id)], \" was added for \", cDict[Id], \" in row \", inserted)\n",
    "def keep(row_num):\n",
    "    #do nothing\n",
    "    print (\"Row\", row_num, \"was not changed\")\n",
    "\n",
    "process = {'d' : delete,\n",
    "           'ns': not_sure,\n",
    "           'o' : other,\n",
    "           'n' : new,\n",
    "           'k' : keep,\n",
    "          }"
   ]
  },
  {
   "cell_type": "code",
   "execution_count": 14,
   "metadata": {
    "collapsed": false
   },
   "outputs": [],
   "source": [
    "############################################## PROCESS COMP #######################################################\n",
    "def manageEntries(start_row):\n",
    "    i = start_row\n",
    "    inserted = 2\n",
    "    while i <= clist.max_row:\n",
    "        Id = clist['A'+str(i)].value\n",
    "        print(\"Link to the crunchbase of:\", cDict[Id], \":\", cURL[Id])\n",
    "        print(\"Current entries for\", cDict[Id], \":\\n\")\n",
    "        while clist['A'+str(i)].value==Id:\n",
    "            if (clist['C'+str(i)].value<572 or clist['C'+str(i)].value>608):\n",
    "                process[d](i)\n",
    "                print(\"This entry, with tag:\", clist['D'+str(i)].value, \"was automatically deleted\")\n",
    "            else:\n",
    "                print(\"Row:\", i, \"             Industry Id: \", clist['C'+str(i)].value, \"             Tag: \", clist['D'+str(i)].value)\n",
    "                cmd = input('What would you like to do?  (d)elete   (ns)not sure   (o)ther   (k)eep  (s)ave file\\n')\n",
    "                if (cmd == 's'):\n",
    "                    file.save('/Users/wandi/Downloads/Leftover.xlsx')\n",
    "                    print(\"current copy saved to file\\n\")\n",
    "                else:\n",
    "                    while (cmd!=\"ns\" and cmd !='k' and cmd!='o' and cmd!='d'):\n",
    "                        cmd = input('What would you like to do?  (d)elete   (ns)not sure   (o)ther   (k)eep  (s)ave file')\n",
    "                    process[cmd](i)\n",
    "            i+=1\n",
    "        tag_id = input(\"Add a tag? Press f to exit\")\n",
    "        while(tag_id!='f'):\n",
    "            if ( int(tag_id)<572 or int(tag_id) >608):\n",
    "                print(\"Tag id not in range (572,609)\")\n",
    "            else:\n",
    "                process['n'](Id,tag_id,inserted)\n",
    "                inserted+=1\n",
    "            tag_id = input(\"Add a tag? Press f to exit\")\n",
    "    print (\"all rows have been processed\")\n",
    "###################################################################################################################"
   ]
  },
  {
   "cell_type": "code",
   "execution_count": null,
   "metadata": {
    "collapsed": false
   },
   "outputs": [
    {
     "name": "stdout",
     "output_type": "stream",
     "text": [
      "Link to the crunchbase of: Dover : https://www.crunchbase.com/organization/dover#/entity\n",
      "Current entries for Dover :\n",
      "\n",
      "Row: 2              Industry Id:  590              Tag:  Hardware and Devices\n",
      "What would you like to do?  (d)elete   (ns)not sure   (o)ther   (k)eep  (s)ave filelkj\n"
     ]
    }
   ],
   "source": [
    "manageEntries(2)"
   ]
  },
  {
   "cell_type": "code",
   "execution_count": null,
   "metadata": {
    "collapsed": true
   },
   "outputs": [],
   "source": []
  },
  {
   "cell_type": "code",
   "execution_count": null,
   "metadata": {
    "collapsed": true
   },
   "outputs": [],
   "source": []
  }
 ],
 "metadata": {
  "kernelspec": {
   "display_name": "Python 2",
   "language": "python",
   "name": "python2"
  },
  "language_info": {
   "codemirror_mode": {
    "name": "ipython",
    "version": 2
   },
   "file_extension": ".py",
   "mimetype": "text/x-python",
   "name": "python",
   "nbconvert_exporter": "python",
   "pygments_lexer": "ipython2",
   "version": "2.7.13"
  }
 },
 "nbformat": 4,
 "nbformat_minor": 2
}
